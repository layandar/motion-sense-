{
 "cells": [
  {
   "cell_type": "code",
   "execution_count": 55,
   "id": "1a04c9d8",
   "metadata": {},
   "outputs": [],
   "source": [
    "import pandas as pd\n",
    "import  numpy as np\n",
    "import os"
   ]
  },
  {
   "cell_type": "code",
   "execution_count": null,
   "id": "9467d7b9",
   "metadata": {},
   "outputs": [
    {
     "name": "stdout",
     "output_type": "stream",
     "text": [
      "Correct train acc windows shape: (7352, 128, 3)\n",
      "Correct train gyro windows shape: (7352, 128, 3)\n",
      "Correct test acc windows shape: (2947, 128, 3)\n",
      "Correct test gyro windows shape: (2947, 128, 3)\n"
     ]
    }
   ],
   "source": [
    "base_path=r\"C:\\Users\\layan\\OneDrive\\Desktop\\UCI_HAR_Dataset\\UCI_HAR_Dataset\"\n",
    "def load_signals_correctly(base_path, dataset_type='train'):\n",
    "    \"\"\"Load signals in the correct UCI HAR format\"\"\"\n",
    "    signals_path = os.path.join(base_path, dataset_type, 'Inertial_Signals')\n",
    "    \n",
    "    \n",
    "    signal_files = [\n",
    "        f\"total_acc_x_{dataset_type}.txt\",\n",
    "        f\"total_acc_y_{dataset_type}.txt\", \n",
    "        f\"total_acc_z_{dataset_type}.txt\",\n",
    "        f\"body_gyro_x_{dataset_type}.txt\",\n",
    "        f\"body_gyro_y_{dataset_type}.txt\",\n",
    "        f\"body_gyro_z_{dataset_type}.txt\"\n",
    "    ]\n",
    "    \n",
    "    signals = {}\n",
    "    for f in signal_files:\n",
    "        key = f.split('_')[0] + '_' + f.split('_')[1]  \n",
    "        if key not in signals:\n",
    "            signals[key] = []\n",
    "        signal_data = np.loadtxt(os.path.join(signals_path, f))\n",
    "        signals[key].append(signal_data)\n",
    "    \n",
    "    \n",
    "    for key in signals:\n",
    "        signals[key] = np.stack(signals[key], axis=-1)  \n",
    "    \n",
    "    return signals\n",
    "\n",
    "\n",
    "train_signals = load_signals_correctly(base_path, 'train')\n",
    "test_signals = load_signals_correctly(base_path, 'test')\n",
    "\n",
    "\n",
    "total_acc_train_windows = train_signals['total_acc']  \n",
    "gyro_train_windows = train_signals['body_gyro']       \n",
    "total_acc_test_windows = test_signals['total_acc']    \n",
    "gyro_test_windows = test_signals['body_gyro']        \n",
    "\n",
    "print(\"Correct train acc windows shape:\", total_acc_train_windows.shape)\n",
    "print(\"Correct train gyro windows shape:\", gyro_train_windows.shape)\n",
    "print(\"Correct test acc windows shape:\", total_acc_test_windows.shape)\n",
    "print(\"Correct test gyro windows shape:\", gyro_test_windows.shape)"
   ]
  },
  {
   "cell_type": "code",
   "execution_count": 57,
   "id": "fe2da8e2",
   "metadata": {},
   "outputs": [
    {
     "name": "stdout",
     "output_type": "stream",
     "text": [
      "=== LOADING LABELS FOR YOUR STRUCTURE ===\n",
      "Training labels path: C:\\Users\\layan\\OneDrive\\Desktop\\UCI_HAR_Dataset\\UCI_HAR_Dataset\\train\\y_train.txt\n",
      "Test labels path: C:\\Users\\layan\\OneDrive\\Desktop\\UCI_HAR_Dataset\\UCI_HAR_Dataset\\test\\y_test.txt\n",
      "✓ Loaded training labels: (7352,)\n",
      "✓ Loaded test labels: (2947,)\n"
     ]
    }
   ],
   "source": [
    "def load_labels_for_your_structure(base_path):\n",
    "  \n",
    "    y_train_path = os.path.join(base_path, 'train', 'y_train.txt')\n",
    "    y_test_path = os.path.join(base_path, 'test', 'y_test.txt')\n",
    "    \n",
    "    print(\"=== LOADING LABELS FOR YOUR STRUCTURE ===\")\n",
    "    print(f\"Training labels path: {y_train_path}\")\n",
    "    print(f\"Test labels path: {y_test_path}\")\n",
    "    \n",
    "    def load_single_file(file_path, label_type):\n",
    "        if os.path.exists(file_path):\n",
    "            try:\n",
    "                y_data = np.loadtxt(file_path).astype(int)\n",
    "                print(f\"✓ Loaded {label_type} labels: {y_data.shape}\")\n",
    "                return y_data\n",
    "            except Exception as e:\n",
    "                print(f\"✗ Error loading {label_type}: {e}\")\n",
    "                return None\n",
    "        else:\n",
    "            print(f\"✗ File not found: {file_path}\")\n",
    "            return None\n",
    "    \n",
    "    y_train = load_single_file(y_train_path, 'training')\n",
    "    y_test = load_single_file(y_test_path, 'test')\n",
    "    \n",
    "    return y_train, y_test\n",
    "\n",
    "base_path = r\"C:\\Users\\layan\\OneDrive\\Desktop\\UCI_HAR_Dataset\\UCI_HAR_Dataset\"\n",
    "y_train, y_test = load_labels_for_your_structure(base_path)"
   ]
  },
  {
   "cell_type": "code",
   "execution_count": null,
   "id": "48b31d12",
   "metadata": {},
   "outputs": [
    {
     "name": "stdout",
     "output_type": "stream",
     "text": [
      "\n",
      "Loading activity names from: C:\\Users\\layan\\OneDrive\\Desktop\\UCI_HAR_Dataset\\UCI_HAR_Dataset\\activity_labels.txt\n",
      "File exists: True\n",
      "✓ Activity mapping loaded:\n",
      "  1: WALKING\n",
      "  2: WALKING_UPSTAIRS\n",
      "  3: WALKING_DOWNSTAIRS\n",
      "  4: SITTING\n",
      "  5: STANDING\n",
      "  6: LAYING\n"
     ]
    }
   ],
   "source": [
    "def load_activity_names_for_your_structure(base_path):\n",
    "    \"\"\"\n",
    "    Load activity_labels.txt from your specific structure\n",
    "    \"\"\"\n",
    "    activity_path = os.path.join(base_path, 'activity_labels.txt')\n",
    "    \n",
    "    print(f\"\\nLoading activity names from: {activity_path}\")\n",
    "    print(f\"File exists: {os.path.exists(activity_path)}\")\n",
    "    \n",
    "    if os.path.exists(activity_path):\n",
    "        try:\n",
    "            \n",
    "            activity_df = pd.read_csv(activity_path, sep=' ', header=None, \n",
    "                                     names=['activity_id', 'activity_name'])\n",
    "            activity_mapping = dict(zip(activity_df['activity_id'], activity_df['activity_name']))\n",
    "            \n",
    "            print(\"✓ Activity mapping loaded:\")\n",
    "            for activity_id, activity_name in activity_mapping.items():\n",
    "                print(f\"  {activity_id}: {activity_name}\")\n",
    "                \n",
    "            return activity_mapping\n",
    "        except Exception as e:\n",
    "            print(f\"✗ Error loading activity names: {e}\")\n",
    "            return None\n",
    "    else:\n",
    "        print(f\"✗ Activity labels file not found\")\n",
    "        return None\n",
    "\n",
    "\n",
    "activity_mapping = load_activity_names_for_your_structure(base_path)"
   ]
  },
  {
   "cell_type": "code",
   "execution_count": null,
   "id": "377f2469",
   "metadata": {},
   "outputs": [
    {
     "name": "stderr",
     "output_type": "stream",
     "text": [
      "[Parallel(n_jobs=1)]: Done  49 tasks      | elapsed:    7.5s\n"
     ]
    },
    {
     "name": "stdout",
     "output_type": "stream",
     "text": [
      "🎉 Training completed successfully! 🎉\n",
      "Train Accuracy: 1.0000\n",
      "Test Accuracy: 0.8996\n"
     ]
    },
    {
     "name": "stderr",
     "output_type": "stream",
     "text": [
      "[Parallel(n_jobs=1)]: Done  49 tasks      | elapsed:    0.0s\n",
      "[Parallel(n_jobs=1)]: Done  49 tasks      | elapsed:    0.0s\n",
      "[Parallel(n_jobs=1)]: Done  49 tasks      | elapsed:    0.0s\n"
     ]
    }
   ],
   "source": [
    "features_train = np.nan_to_num(features_train, nan=0.0)\n",
    "features_test = np.nan_to_num(features_test, nan=0.0)\n",
    "\n",
    "from sklearn.ensemble import RandomForestClassifier\n",
    "\n",
    "clf = RandomForestClassifier(n_estimators=100, random_state=42, verbose=1)\n",
    "clf.fit(features_train, y_train)\n",
    "\n",
    "print(\"🎉 Training completed successfully! 🎉\")\n",
    "\n",
    "train_accuracy = clf.score(features_train, y_train)\n",
    "test_accuracy = clf.score(features_test, y_test)\n",
    "\n",
    "print(f\"Train Accuracy: {train_accuracy:.4f}\")\n",
    "print(f\"Test Accuracy: {test_accuracy:.4f}\")\n",
    "\n",
    "y_pred = clf.predict(features_test)"
   ]
  },
  {
   "cell_type": "code",
   "execution_count": 60,
   "id": "902cd56b",
   "metadata": {},
   "outputs": [
    {
     "name": "stdout",
     "output_type": "stream",
     "text": [
      "Scaling features for SVM...\n",
      "\n",
      "Training SVM with linear kernel...\n",
      "[LibSVM]SVM (linear) - Train: 0.9962, Test: 0.9596, Time: 2.47s\n",
      "\n",
      "Training SVM with rbf kernel...\n",
      "[LibSVM]SVM (rbf) - Train: 0.9901, Test: 0.9477, Time: 12.91s\n",
      "\n",
      "Training SVM with poly kernel...\n",
      "[LibSVM]SVM (poly) - Train: 0.9819, Test: 0.9186, Time: 9.70s\n",
      "\n",
      "==================================================\n",
      "COMPARISON OF MODELS\n",
      "==================================================\n",
      "Random Forest:\n",
      "  Train Accuracy: 1.0000\n",
      "  Test Accuracy:  0.8996\n",
      "\n",
      "SVM (linear):\n",
      "  Train Accuracy: 0.9962\n",
      "  Test Accuracy:  0.9596\n",
      "  Training Time:  2.47s\n",
      "\n",
      "SVM (rbf):\n",
      "  Train Accuracy: 0.9901\n",
      "  Test Accuracy:  0.9477\n",
      "  Training Time:  12.91s\n",
      "\n",
      "SVM (poly):\n",
      "  Train Accuracy: 0.9819\n",
      "  Test Accuracy:  0.9186\n",
      "  Training Time:  9.70s\n",
      "\n",
      "Best SVM kernel: linear with test accuracy: 0.9596\n",
      "\n",
      "==================================================\n",
      "DETAILED PERFORMANCE - BEST SVM\n",
      "==================================================\n",
      "                    precision    recall  f1-score   support\n",
      "\n",
      "           Walking       0.97      0.98      0.98       496\n",
      "  Walking Upstairs       0.97      0.97      0.97       471\n",
      "Walking Downstairs       0.98      0.97      0.97       420\n",
      "           Sitting       0.93      0.89      0.91       491\n",
      "          Standing       0.91      0.94      0.92       532\n",
      "            Laying       1.00      1.00      1.00       537\n",
      "\n",
      "          accuracy                           0.96      2947\n",
      "         macro avg       0.96      0.96      0.96      2947\n",
      "      weighted avg       0.96      0.96      0.96      2947\n",
      "\n"
     ]
    }
   ],
   "source": [
    "\n",
    "\n",
    "from sklearn.svm import SVC\n",
    "from sklearn.preprocessing import StandardScaler\n",
    "from sklearn.metrics import accuracy_score, classification_report\n",
    "import time\n",
    "\n",
    "print(\"Scaling features for SVM...\")\n",
    "scaler = StandardScaler()\n",
    "features_train_scaled = scaler.fit_transform(features_train)\n",
    "features_test_scaled = scaler.transform(features_test)\n",
    "\n",
    "kernels = ['linear', 'rbf', 'poly']\n",
    "svm_results = {}\n",
    "\n",
    "for kernel in kernels:\n",
    "    print(f\"\\nTraining SVM with {kernel} kernel...\")\n",
    "    start_time = time.time()\n",
    "    \n",
    "    svm_clf = SVC(kernel=kernel, random_state=42, verbose=1)\n",
    "    svm_clf.fit(features_train_scaled, y_train)\n",
    "    \n",
    "    y_pred_train = svm_clf.predict(features_train_scaled)\n",
    "    y_pred_test = svm_clf.predict(features_test_scaled)\n",
    "    \n",
    "    train_accuracy = accuracy_score(y_train, y_pred_train)\n",
    "    test_accuracy = accuracy_score(y_test, y_pred_test)\n",
    "    \n",
    "    training_time = time.time() - start_time\n",
    "    \n",
    "    svm_results[kernel] = {\n",
    "        'train_accuracy': train_accuracy,\n",
    "        'test_accuracy': test_accuracy,\n",
    "        'training_time': training_time,\n",
    "        'model': svm_clf\n",
    "    }\n",
    "    \n",
    "    print(f\"SVM ({kernel}) - Train: {train_accuracy:.4f}, Test: {test_accuracy:.4f}, Time: {training_time:.2f}s\")\n",
    "\n",
    "print(\"\\n\" + \"=\"*50)\n",
    "print(\"COMPARISON OF MODELS\")\n",
    "print(\"=\"*50)\n",
    "\n",
    "print(f\"Random Forest:\")\n",
    "print(f\"  Train Accuracy: {1.0000:.4f}\")\n",
    "print(f\"  Test Accuracy:  {0.8996:.4f}\")\n",
    "\n",
    "for kernel, results in svm_results.items():\n",
    "    print(f\"\\nSVM ({kernel}):\")\n",
    "    print(f\"  Train Accuracy: {results['train_accuracy']:.4f}\")\n",
    "    print(f\"  Test Accuracy:  {results['test_accuracy']:.4f}\")\n",
    "    print(f\"  Training Time:  {results['training_time']:.2f}s\")\n",
    "\n",
    "best_svm_kernel = max(svm_results.items(), key=lambda x: x[1]['test_accuracy'])\n",
    "print(f\"\\nBest SVM kernel: {best_svm_kernel[0]} with test accuracy: {best_svm_kernel[1]['test_accuracy']:.4f}\")\n",
    "\n",
    "best_svm = best_svm_kernel[1]['model']\n",
    "y_pred_best_svm = best_svm.predict(features_test_scaled)\n",
    "\n",
    "print(\"\\n\" + \"=\"*50)\n",
    "print(\"DETAILED PERFORMANCE - BEST SVM\")\n",
    "print(\"=\"*50)\n",
    "print(classification_report(y_test, y_pred_best_svm, \n",
    "                          target_names=['Walking', 'Walking Upstairs', 'Walking Downstairs', \n",
    "                                       'Sitting', 'Standing', 'Laying']))"
   ]
  },
  {
   "cell_type": "code",
   "execution_count": null,
   "id": "37d8c79c",
   "metadata": {},
   "outputs": [
    {
     "name": "stdout",
     "output_type": "stream",
     "text": [
      "c:\\Users\\layan\\OneDrive\\Desktop\\motionsense\n",
      "['1683385379_g.jpg', '23-Replica-Jersey-Youth.webp', '230621042149-01-cristiano-ronaldo-euro-200-apps-062023-restricted.jpg', '51MBon-HIPL._AC_UY1000_.jpg', '57498860xlarge.jpg', '@gjumun _ Linktree.html', '@gjumun _ Linktree_files', 'Anki.lnk', 'app.py', 'assignment3.cpp', 'Autodesk Fusion.lnk', 'Blender 4.2.lnk', 'bst.c', 'ButtonSwap', 'c', 'calc', 'calculator', 'CapCut.lnk', 'circuit.circ', 'circular linked list.c', 'CppApplication_1', 'CppApplication_2', 'CS', 'cs even and odd arrays.c', 'cs for float practice.txt', 'cs frequency of each element practice.c', 'cs funtcions.txt', 'cs if statement practice.c', 'cs if ststement practice.c', 'cs merging arrays.c', 'cs perfect number practice.txt', 'cs practic 2.c', 'cs practice insert a value in an array.c', 'cs practice1.c', 'cs quiz.txt', 'cs root.c', 'cs sorting arrays.c', 'cs1', 'CS214 Lecture 7.pdf', 'database final', 'Delegate Applications (Responses).xlsx', 'description.docx', 'desktop.ini', 'digital lab.circ', 'Discord.lnk', 'edraw-max_setup_full5517.exe.lnk', 'frame', 'google.lnk', 'GUI', 'GuiLab.java', 'imu', 'java assignement', 'jk.circ', 'lab10', 'layan', 'layan edu', 'layan edu.html', 'main.java', 'main4356779.circ', 'mavenproject1', 'mavenproject2', 'mavenproject3', 'mavenproject4', 'mavenproject5', 'mavenproject6', 'mid exam', 'mid exam1', 'midtermpractice', 'MinGW Installer.lnk', 'motionsense', 'MSSQL16.MSSQLSERVER', 'mun', 'munex.py', 'My project', 'Oop lab 2.1.java', 'oop lab 2.2.java', 'oopfinal', 'perfect numbers in that range.c', 'Personal - Edge.lnk', 'Personal - Edge.zip', 'physics I', 'PRACTICE', 'pre lab2.docx', 'quiz3', 'Rectangle.java', 'RegistrationForm', 'research', 'Research.docx', 'rna', 'Roblox Player.lnk', 'Roblox Studio.lnk', 'ScreenRec.lnk', 'seeit hackathon', 's_OSD-379.txt', 'Telegram.lnk', 'titrationexp', 'topics-draft.pdf', 'UCI HAR Dataset.zip', 'UCI_HAR_Dataset', 'Untitled1.py', 'vfs schengen visa', 'Visual Studio Code.lnk', 'worksheet10', 'writerExample.txt', 'Zoom Workplace.lnk']\n"
     ]
    }
   ],
   "source": [
    "import os\n",
    "\n",
    "print(os.getcwd())  \n",
    "print(os.listdir(r\"C:\\Users\\layan\\OneDrive\\Desktop\"))  \n"
   ]
  },
  {
   "cell_type": "code",
   "execution_count": null,
   "id": "36faaeac",
   "metadata": {},
   "outputs": [
    {
     "name": "stdout",
     "output_type": "stream",
     "text": [
      "\n",
      "==================================================\n",
      "SAVING COMPLETE PREDICTOR FOR DEPLOYMENT\n",
      "==================================================\n",
      "✅ Complete predictor saved as 'har_predictor_complete.pkl'\n",
      "\n",
      "🧪 Testing the saved predictor...\n",
      "Predictions: ['STANDING', 'STANDING', 'STANDING', 'STANDING', 'STANDING']\n",
      "Actual:      ['STANDING', 'STANDING', 'STANDING', 'STANDING', 'STANDING']\n",
      "\n",
      "🎉 Deployment predictor is ready! Use har_predictor_complete.pkl with har_utils.py\n"
     ]
    }
   ],
   "source": [
    "\n",
    "\n",
    "print(\"\\n\" + \"=\"*50)\n",
    "print(\"SAVING COMPLETE PREDICTOR FOR DEPLOYMENT\")\n",
    "print(\"=\"*50)\n",
    "\n",
    "\n",
    "from har_utils import HARPredictor\n",
    "\n",
    "predictor = HARPredictor(best_svm, scaler, activity_mapping)\n",
    "\n",
    "joblib.dump(predictor, 'har_predictor_complete.pkl')\n",
    "print(\"✅ Complete predictor saved as 'har_predictor_complete.pkl'\")\n",
    "\n",
    "\n",
    "print(\"\\n🧪 Testing the saved predictor...\")\n",
    "test_predictions = predictor.predict(total_acc_test_windows[:5], gyro_test_windows[:5])\n",
    "print(\"Predictions:\", test_predictions)\n",
    "\n",
    "\n",
    "actual_activities = [activity_mapping[label] for label in y_test[:5]]\n",
    "print(\"Actual:     \", actual_activities)\n",
    "\n",
    "print(\"\\n🎉 Deployment predictor is ready! Use har_predictor_complete.pkl with har_utils.py\")"
   ]
  }
 ],
 "metadata": {
  "kernelspec": {
   "display_name": "Python 3",
   "language": "python",
   "name": "python3"
  },
  "language_info": {
   "codemirror_mode": {
    "name": "ipython",
    "version": 3
   },
   "file_extension": ".py",
   "mimetype": "text/x-python",
   "name": "python",
   "nbconvert_exporter": "python",
   "pygments_lexer": "ipython3",
   "version": "3.11.9"
  }
 },
 "nbformat": 4,
 "nbformat_minor": 5
}
